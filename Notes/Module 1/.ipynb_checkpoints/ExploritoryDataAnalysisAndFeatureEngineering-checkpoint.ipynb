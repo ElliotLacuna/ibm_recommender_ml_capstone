{
 "cells": [
  {
   "cell_type": "markdown",
   "id": "943e2d81-5c12-4538-a627-33dbc483ac61",
   "metadata": {},
   "source": [
    "# Text Analysis - Notes and code\n",
    "\n",
    "## Introduced techniques for text analysis.\n",
    "\n",
    "- Tokenization (word, phrase, sentence)\n",
    "- Stopword removal\n",
    "- Stemming and Lemmatization\n",
    "- Word Frequecy Analysis\n",
    "- Sentiment Analysis\n",
    "- Named Entity Recognition (NER)\n",
    "- Topic Modeling\n",
    "- Text Classification\n",
    "- Document Summarization\n",
    "\n",
    "## Other Introduced Concepts\n",
    "\n",
    "- **Bag of Words (BOW)**, a fundamental concept of NLP\n",
    "- **Binary Bag of Words**, each vocabulary word a bit\n",
    "- **Frewquency Bag of Words**, each vocabulary word counted per doc\n",
    "- **TF-IDF Normalization** (Term Frequency-Inverse Document Frequency) is TF*IDF Vector of each vocabulary word\n",
    "- **Inverse Document Frequency** is Log(DocsInCorpusTotal/DocsWitWordTotal)\n",
    "\n",
    "## Python lybraries introduced\n",
    "\n",
    "- **NLTK**: kenization, stemming, lemmatization, part-of-speech tagging, named entity recognition, parsing, etc.\n",
    "- **Gensim**: topic modeling and document similarity tasks, and Bag-of-Words representation"
   ]
  },
  {
   "cell_type": "code",
   "execution_count": 3,
   "id": "419a44fa-e126-450d-8ad4-1c4130de9b0d",
   "metadata": {},
   "outputs": [
    {
     "name": "stdout",
     "output_type": "stream",
     "text": [
      "Filtered Tokens 1: ['TechTrend', 'X1', 'camera', 'captures', 'stunning', 'photos', ',', 'battery', 'life', 'could', 'better', '.', \"'m\", 'impressed', 'camera', 'quality', '.']\n",
      "Filtered Tokens 2: [\"'m\", 'disappointed', 'TechTrend', 'X1', 'battery', 'life', ',', 'although', 'camera', 'quality', 'exceptional', '.', 'However', ',', 'camera', 'features', 'lacking', '.']\n",
      "Dictionary: {\"'m\": 0, ',': 1, '.': 2, 'TechTrend': 3, 'X1': 4, 'battery': 5, 'better': 6, 'camera': 7, 'captures': 8, 'could': 9, 'impressed': 10, 'life': 11, 'photos': 12, 'quality': 13, 'stunning': 14, 'However': 15, 'although': 16, 'disappointed': 17, 'exceptional': 18, 'features': 19, 'lacking': 20}\n",
      "BoW Vector 1: [(0, 1), (1, 1), (2, 2), (3, 1), (4, 1), (5, 1), (6, 1), (7, 2), (8, 1), (9, 1), (10, 1), (11, 1), (12, 1), (13, 1), (14, 1)]\n",
      "BoW Vector 2: [(0, 1), (1, 2), (2, 2), (3, 1), (4, 1), (5, 1), (7, 2), (11, 1), (13, 1), (15, 1), (16, 1), (17, 1), (18, 1), (19, 1), (20, 1)]\n"
     ]
    },
    {
     "name": "stderr",
     "output_type": "stream",
     "text": [
      "[nltk_data] Downloading package punkt to\n",
      "[nltk_data]     /Users/elliotrobison/nltk_data...\n",
      "[nltk_data]   Package punkt is already up-to-date!\n",
      "[nltk_data] Downloading package stopwords to\n",
      "[nltk_data]     /Users/elliotrobison/nltk_data...\n",
      "[nltk_data]   Package stopwords is already up-to-date!\n"
     ]
    }
   ],
   "source": [
    "import nltk\n",
    "from nltk.corpus import stopwords\n",
    "from nltk.tokenize import word_tokenize\n",
    "from gensim.corpora import Dictionary\n",
    "nltk.download('punkt')\n",
    "nltk.download('stopwords')\n",
    "# Sample reviews\n",
    "review1 = \"The TechTrend X1 camera captures stunning photos, but the battery life could be better. I'm very impressed with the camera quality.\"\n",
    "review2 = \"I'm disappointed with the TechTrend X1 battery life, although the camera quality is exceptional. However, the camera features are lacking.\"\n",
    "# Tokenization\n",
    "tokens1 = word_tokenize(review1)\n",
    "tokens2 = word_tokenize(review2)\n",
    "# Stop word removal\n",
    "stop_words = set(stopwords.words('english'))\n",
    "filtered_tokens1 = [word for word in tokens1 if word.lower() not in stop_words]\n",
    "filtered_tokens2 = [word for word in tokens2 if word.lower() not in stop_words]\n",
    "# Create dictionary\n",
    "documents = [filtered_tokens1, filtered_tokens2]\n",
    "dictionary = Dictionary(documents)\n",
    "# Generate bag-of-words vectors\n",
    "bow_vector1 = dictionary.doc2bow(filtered_tokens1)\n",
    "bow_vector2 = dictionary.doc2bow(filtered_tokens2)\n",
    "# Print results\n",
    "print(\"Filtered Tokens 1:\", filtered_tokens1)\n",
    "print(\"Filtered Tokens 2:\", filtered_tokens2)\n",
    "print(\"Dictionary:\", dictionary.token2id)\n",
    "print(\"BoW Vector 1:\", bow_vector1)\n",
    "print(\"BoW Vector 2:\", bow_vector2)\n",
    "\n"
   ]
  },
  {
   "cell_type": "markdown",
   "id": "f7e1c561-094a-4c51-bfb4-29c96ab278a7",
   "metadata": {},
   "source": [
    "# Stopwords and WordClouds\n",
    "\n",
    "Opening introduction further talks about NLTK and why we care about removing stopwords\n",
    "\n",
    "## Wordcloud Generation\n",
    "\n",
    "\n"
   ]
  },
  {
   "cell_type": "code",
   "execution_count": null,
   "id": "9f3e8b0d-f8ea-45b4-8844-cd95e5a48928",
   "metadata": {},
   "outputs": [],
   "source": []
  }
 ],
 "metadata": {
  "kernelspec": {
   "display_name": "Python 3 (ipykernel)",
   "language": "python",
   "name": "python3"
  },
  "language_info": {
   "codemirror_mode": {
    "name": "ipython",
    "version": 3
   },
   "file_extension": ".py",
   "mimetype": "text/x-python",
   "name": "python",
   "nbconvert_exporter": "python",
   "pygments_lexer": "ipython3",
   "version": "3.12.4"
  }
 },
 "nbformat": 4,
 "nbformat_minor": 5
}
